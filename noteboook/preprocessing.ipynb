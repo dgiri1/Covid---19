{
  "nbformat": 4,
  "nbformat_minor": 0,
  "metadata": {
    "colab": {
      "name": "covid.ipynb",
      "provenance": []
    },
    "kernelspec": {
      "name": "python3",
      "display_name": "Python 3"
    }
  },
  "cells": [
    {
      "cell_type": "code",
      "metadata": {
        "id": "2Z00t2D1zfAf",
        "colab_type": "code",
        "colab": {
          "base_uri": "https://localhost:8080/",
          "height": 51
        },
        "outputId": "5aed6b0a-4d08-4f7c-bf5f-3ec5a608a183"
      },
      "source": [
        "%%bash\n",
        "git clone 'https://github.com/ostojanovic/BSTIM.git'\n",
        "git clone 'https://github.com/dgiri1/Covid---19.git'"
      ],
      "execution_count": 2,
      "outputs": [
        {
          "output_type": "stream",
          "text": [
            "fatal: destination path 'BSTIM' already exists and is not an empty directory.\n",
            "Cloning into 'Covid---19'...\n"
          ],
          "name": "stderr"
        }
      ]
    },
    {
      "cell_type": "code",
      "metadata": {
        "id": "oZlWtlL8z3bZ",
        "colab_type": "code",
        "colab": {}
      },
      "source": [
        "import numpy as np\n",
        "import pandas as pd\n",
        "import pickle\n",
        "import shutil"
      ],
      "execution_count": 0,
      "outputs": []
    },
    {
      "cell_type": "code",
      "metadata": {
        "id": "XqZABnCs0qfR",
        "colab_type": "code",
        "colab": {}
      },
      "source": [
        "## read the npy data \n",
        "file_interaction = '/content/BSTIM/data/counties/interaction_effects.npy'\n",
        "file_counties = '/content/BSTIM/data/counties/counties.pkl'\n",
        "interaction = np.load(file_interaction)\n",
        "# open a file, where you stored the pickled data\n",
        "file = open(file_counties, 'rb')\n",
        "\n",
        "# dump information to that file\n",
        "counties_data = pickle.load(file)\n",
        "\n",
        "# close the file\n",
        "\n",
        "file.close()"
      ],
      "execution_count": 0,
      "outputs": []
    },
    {
      "cell_type": "code",
      "metadata": {
        "id": "nyXP1QQu04ul",
        "colab_type": "code",
        "colab": {}
      },
      "source": [
        "import pickle as pkl, pandas as pd, numpy as np, json, csv ,random, timeit, re\n",
        "\n",
        "from shapely.geometry.polygon import Polygon\n",
        "from shapely.geometry.multipolygon import MultiPolygon\n",
        "from descartes import PolygonPatch\n",
        "\n",
        "from collections import OrderedDict\n",
        "\n",
        "import matplotlib as mpl\n",
        "from matplotlib import pyplot as plt\n",
        "\n",
        "from collections import OrderedDict"
      ],
      "execution_count": 0,
      "outputs": []
    },
    {
      "cell_type": "code",
      "metadata": {
        "id": "bdnXBNSfG-ja",
        "colab_type": "code",
        "colab": {}
      },
      "source": [
        "%run '/content/BSTIM/src/geo_utils.py'"
      ],
      "execution_count": 0,
      "outputs": []
    },
    {
      "cell_type": "code",
      "metadata": {
        "id": "wExoemSjHS6m",
        "colab_type": "code",
        "colab": {}
      },
      "source": [
        "\n",
        "num_testpoints_per_state = 500\n",
        "num_partition_samples = 50\n",
        "\n",
        "num_interaction_gaussians = 4\n",
        "interaction_distance = 1000.0 #[km]\n",
        "σs= 2**np.arange(num_interaction_gaussians)/(2*num_interaction_gaussians)*interaction_distance\n",
        "\n",
        "# states = OrderedDict()"
      ],
      "execution_count": 0,
      "outputs": []
    },
    {
      "cell_type": "code",
      "metadata": {
        "id": "7bM7U6iUIIsW",
        "colab_type": "code",
        "colab": {}
      },
      "source": [
        "\n",
        "with open(\"/content/Covid---19/data/gz_2010_us_040_00_500k.json\", 'r') as data_file:\n",
        "    shape_data = json.load(data_file)\n",
        "\n",
        "for idx,val in enumerate(shape_data[\"features\"]):\n",
        "    id_current = val[\"properties\"][\"GEO_ID\"]\n",
        "    name_current = val[\"properties\"][\"NAME\"]\n",
        "    \n",
        "    if val[\"geometry\"][\"type\"] == \"Polygon\":\n",
        "        polygon_current = Polygon(val[\"geometry\"][\"coordinates\"][0],val[\"geometry\"][\"coordinates\"][1:])\n",
        "    elif val[\"geometry\"][\"type\"] == \"MultiPolygon\":\n",
        "        polys = [Polygon(p[0], p[1:]) for p in val[\"geometry\"][\"coordinates\"]]\n",
        "        polygon_current = MultiPolygon(polys)\n",
        "    \n",
        "    states[id_current] = {\"shape\": polygon_current, \"name\": name_current}"
      ],
      "execution_count": 0,
      "outputs": []
    },
    {
      "cell_type": "code",
      "metadata": {
        "id": "_UWnhyQkIQZg",
        "colab_type": "code",
        "colab": {}
      },
      "source": [
        "# Sanity check: the state 23 is Maine\n",
        "assert states[\"0400000US23\"][\"name\"] == \"Maine\""
      ],
      "execution_count": 0,
      "outputs": []
    },
    {
      "cell_type": "code",
      "metadata": {
        "id": "Iuhill9jIe7-",
        "colab_type": "code",
        "colab": {}
      },
      "source": [
        "\n",
        "state_names = dict([(val[\"name\"], id) for id,val in states.items()])"
      ],
      "execution_count": 0,
      "outputs": []
    },
    {
      "cell_type": "code",
      "metadata": {
        "id": "Y9UAu4NdIhXU",
        "colab_type": "code",
        "colab": {}
      },
      "source": [
        "\n",
        "age_data = pd.read_csv(\"Covid---19/data/sc-est2018-agesex-civ.csv\")[[\"NAME\",\"AGE\",\"SEX\",\"POPEST2018_CIV\"]]\n",
        "\n",
        "def merge_age_groups(age_group):\n",
        "    starting_age = int(age_group)\n",
        "    \n",
        "    if starting_age <5:\n",
        "        return \"[0-5)\"\n",
        "    elif starting_age <20:\n",
        "        return \"[5-20)\"\n",
        "    elif starting_age < 65:\n",
        "        return \"[20-65)\"\n",
        "    else:\n",
        "        return \">65\"\n",
        "\n",
        "age_data[\"AGE\"] = age_data[\"AGE\"].apply(merge_age_groups)\n",
        "\n",
        "age_data[\"id\"] = age_data[\"NAME\"].apply(state_names.get)\n",
        "age_data.rename(columns={'POPEST2018_CIV':'population'},inplace=True)\n",
        "#get total number of people per county per year\n",
        "total_population_data = age_data.groupby([\"id\"]).aggregate({\"population\": 'sum'})\n",
        "#get total number of people per county per age group per year\n",
        "group_population_data = age_data.groupby([\"id\",\"AGE\"]).aggregate({\"population\": 'sum'})\n",
        "\n",
        "#calculate the log age group fraction of the total population\n",
        "log_group_fraction_data = group_population_data.apply(lambda row: np.log(row/total_population_data.loc[row.name[0]]),axis=1)#.loc[(row.name[0],row.name[2])]), axis=1)\n",
        "\n",
        "#create group \"total\" column\n",
        "total_population_data[\"AGE\"]=\"total\"\n",
        "total_population_data.reset_index(inplace=True)\n",
        "total_population_data.set_index([\"id\",\"AGE\"], inplace=True)\n",
        "\n",
        "#combine age groups and the \"total\" column into a single dataframe and export the \"population\" column as values in a dictionary\n",
        "population_data = pd.concat([log_group_fraction_data, total_population_data])\n",
        "population_data.reset_index().set_index([\"id\",\"AGE\"], inplace=True)"
      ],
      "execution_count": 0,
      "outputs": []
    },
    {
      "cell_type": "code",
      "metadata": {
        "id": "F3so4uNKIsnB",
        "colab_type": "code",
        "colab": {}
      },
      "source": [
        "for id,row in population_data.unstack(1).iterrows():\n",
        "    states[id][\"demographics\"] = row[\"population\"].to_dict()"
      ],
      "execution_count": 0,
      "outputs": []
    },
    {
      "cell_type": "code",
      "metadata": {
        "id": "CDGab0H7IwMW",
        "colab_type": "code",
        "colab": {
          "base_uri": "https://localhost:8080/",
          "height": 17
        },
        "outputId": "bb5df368-c0ae-4e87-b813-0c3538cb924a"
      },
      "source": [
        "for i,(id, state) in enumerate(states.items()):\n",
        "    print(\"Sampling testpoints for stete '{}' ({:.2f}%)            \".format(id, 100.0*i/len(states)), end=\"\\r\")\n",
        "    # Sample uniformly in the region using local jacobian\n",
        "    centroid = np.array(state[\"shape\"].centroid)\n",
        "    Σ_sq = jacobian_sq(centroid[1])\n",
        "    Σ_sqinv = np.diag(1/np.diag(Σ_sq))\n",
        "    \n",
        "    x1,y1,x2,y2 = state[\"shape\"].bounds\n",
        "    p1 = np.array([x1,y1])\n",
        "    p2 = np.array([x2,y2])\n",
        "    \n",
        "    p1_corrected = (p1-centroid).dot(Σ_sq)\n",
        "    p2_corrected = (p2-centroid).dot(Σ_sq)\n",
        "    \n",
        "    dims = p2_corrected-p1_corrected\n",
        "    \n",
        "    # calculate testpoints\n",
        "    testpoints = np.empty((num_testpoints_per_state, 2), np.float)\n",
        "    \n",
        "    cnt = 0\n",
        "    while cnt < num_testpoints_per_state:\n",
        "        tp = (np.random.rand(2)*dims).dot(Σ_sqinv) + p1\n",
        "        if not state[\"shape\"].contains(Point(tp)):\n",
        "            continue\n",
        "        testpoints[cnt, :] = tp\n",
        "        cnt += 1\n",
        "\n",
        "        states[id][\"testpoints\"] = testpoints"
      ],
      "execution_count": 263,
      "outputs": [
        {
          "output_type": "stream",
          "text": [
            ""
          ],
          "name": "stdout"
        }
      ]
    },
    {
      "cell_type": "code",
      "metadata": {
        "id": "vYVh4Pu_FbLl",
        "colab_type": "code",
        "colab": {
          "base_uri": "https://localhost:8080/",
          "height": 901
        },
        "outputId": "b5a5b8d3-0f60-4abc-e2eb-2f6f2c825108"
      },
      "source": [
        "for key in states.keys():\n",
        "  print((key,states[key]['name']))"
      ],
      "execution_count": 174,
      "outputs": [
        {
          "output_type": "stream",
          "text": [
            "('0400000US23', 'Maine')\n",
            "('0400000US25', 'Massachusetts')\n",
            "('0400000US26', 'Michigan')\n",
            "('0400000US30', 'Montana')\n",
            "('0400000US32', 'Nevada')\n",
            "('0400000US34', 'New Jersey')\n",
            "('0400000US36', 'New York')\n",
            "('0400000US37', 'North Carolina')\n",
            "('0400000US39', 'Ohio')\n",
            "('0400000US42', 'Pennsylvania')\n",
            "('0400000US44', 'Rhode Island')\n",
            "('0400000US47', 'Tennessee')\n",
            "('0400000US48', 'Texas')\n",
            "('0400000US49', 'Utah')\n",
            "('0400000US53', 'Washington')\n",
            "('0400000US55', 'Wisconsin')\n",
            "('0400000US72', 'Puerto Rico')\n",
            "('0400000US24', 'Maryland')\n",
            "('0400000US01', 'Alabama')\n",
            "('0400000US02', 'Alaska')\n",
            "('0400000US04', 'Arizona')\n",
            "('0400000US05', 'Arkansas')\n",
            "('0400000US06', 'California')\n",
            "('0400000US08', 'Colorado')\n",
            "('0400000US09', 'Connecticut')\n",
            "('0400000US10', 'Delaware')\n",
            "('0400000US11', 'District of Columbia')\n",
            "('0400000US12', 'Florida')\n",
            "('0400000US13', 'Georgia')\n",
            "('0400000US15', 'Hawaii')\n",
            "('0400000US16', 'Idaho')\n",
            "('0400000US17', 'Illinois')\n",
            "('0400000US18', 'Indiana')\n",
            "('0400000US19', 'Iowa')\n",
            "('0400000US20', 'Kansas')\n",
            "('0400000US21', 'Kentucky')\n",
            "('0400000US22', 'Louisiana')\n",
            "('0400000US27', 'Minnesota')\n",
            "('0400000US28', 'Mississippi')\n",
            "('0400000US29', 'Missouri')\n",
            "('0400000US31', 'Nebraska')\n",
            "('0400000US33', 'New Hampshire')\n",
            "('0400000US35', 'New Mexico')\n",
            "('0400000US38', 'North Dakota')\n",
            "('0400000US40', 'Oklahoma')\n",
            "('0400000US41', 'Oregon')\n",
            "('0400000US45', 'South Carolina')\n",
            "('0400000US46', 'South Dakota')\n",
            "('0400000US50', 'Vermont')\n",
            "('0400000US51', 'Virginia')\n",
            "('0400000US54', 'West Virginia')\n",
            "('0400000US56', 'Wyoming')\n"
          ],
          "name": "stdout"
        }
      ]
    },
    {
      "cell_type": "code",
      "metadata": {
        "id": "CzH9nxhxI_hb",
        "colab_type": "code",
        "colab": {
          "base_uri": "https://localhost:8080/",
          "height": 281
        },
        "outputId": "659d8a53-4561-4334-df09-97b3bf032e68"
      },
      "source": [
        "# plot for NC ('0400000US37', 'North Carolina')\n",
        "\n",
        "ax = plt.subplot(111)\n",
        "ax.add_patch(PolygonPatch(states[\"0400000US37\"][\"shape\"]))\n",
        "ax.plot(states[\"0400000US37\"][\"testpoints\"][:,0],states[\"0400000US37\"][\"testpoints\"][:,1], \"k.\")\n",
        "ax.set_title(\"Example: Testpoints within NC state\");"
      ],
      "execution_count": 265,
      "outputs": [
        {
          "output_type": "display_data",
          "data": {
            "image/png": "[encoded data removed]",
            "text/plain": [
              "<Figure size 432x288 with 1 Axes>"
            ]
          },
          "metadata": {
            "tags": [],
            "needs_background": "light"
          }
        }
      ]
    },
    {
      "cell_type": "code",
      "metadata": {
        "id": "W89CFj71GDvY",
        "colab_type": "code",
        "colab": {}
      },
      "source": [
        "regions_df = pd.read_csv(\"/content/USregions.csv\")\n",
        "regions_df[\"id\"] = regions_df[\"State\"].apply(state_names.get)\n",
        "regions_df.set_index(\"id\",inplace=True)\n",
        "\n"
      ],
      "execution_count": 0,
      "outputs": []
    },
    {
      "cell_type": "code",
      "metadata": {
        "id": "89nHFXSUk7A7",
        "colab_type": "code",
        "colab": {
          "base_uri": "https://localhost:8080/",
          "height": 238
        },
        "outputId": "06d36535-3d7b-432f-c919-a6f0043bcf1f"
      },
      "source": [
        "regions_df.reset_index(inplace=True)\n",
        "regions_df.set_index('Region').loc['West'].id.to_list()"
      ],
      "execution_count": 267,
      "outputs": [
        {
          "output_type": "execute_result",
          "data": {
            "text/plain": [
              "['0400000US02',\n",
              " '0400000US04',\n",
              " '0400000US06',\n",
              " '0400000US08',\n",
              " '0400000US15',\n",
              " '0400000US16',\n",
              " '0400000US30',\n",
              " '0400000US35',\n",
              " '0400000US32',\n",
              " '0400000US41',\n",
              " '0400000US49',\n",
              " '0400000US53',\n",
              " '0400000US56']"
            ]
          },
          "metadata": {
            "tags": []
          },
          "execution_count": 267
        }
      ]
    },
    {
      "cell_type": "code",
      "metadata": {
        "id": "GkmUJMrXjzYP",
        "colab_type": "code",
        "colab": {}
      },
      "source": [
        "\n",
        "regions = OrderedDict({\n",
        "    \"US\":{\"ids\":list(states.keys()), \"hatch\": \" \"},\n",
        "    \"West\": {\"ids\": regions_df.set_index('Region').loc['West'].id.to_list(), \"hatch\": \"+\"},\n",
        "    \"South\": {\"ids\": regions_df.set_index('Region').loc['South'].id.to_list(), \"hatch\": \"\\\\\"},\n",
        "    \"Northeast\": {\"ids\": regions_df.set_index('Region').loc['Northeast'].id.to_list(), \"hatch\": \"/\"},\n",
        "    \"Midwest\":  {\"ids\": regions_df.set_index('Region').loc['Midwest'].id.to_list(), \"hatch\": \"o\"},\n",
        "    \"Other\": {\"ids\": ['0400000US72'],\"hatch\": \"--\"}\n",
        "})"
      ],
      "execution_count": 0,
      "outputs": []
    },
    {
      "cell_type": "code",
      "metadata": {
        "id": "vbDe9h0cZAKi",
        "colab_type": "code",
        "colab": {}
      },
      "source": [
        "for state in states.values():\n",
        "    state[\"region\"] = []\n",
        "\n",
        "for region, props in regions.items():\n",
        "    for id in props[\"ids\"]:\n",
        "        states[id][\"region\"].append(region)\n"
      ],
      "execution_count": 0,
      "outputs": []
    },
    {
      "cell_type": "code",
      "metadata": {
        "id": "S1QDlHkDjn8-",
        "colab_type": "code",
        "colab": {
          "base_uri": "https://localhost:8080/",
          "height": 215
        },
        "outputId": "afdbe203-9e99-412e-e13c-59aed71640d0"
      },
      "source": [
        "ax = plt.subplot(111)\n",
        "# calculate region polygons\n",
        "for name,region in regions.items():\n",
        "    region_poly = Polygon()\n",
        "    for c in region[\"ids\"]:\n",
        "        region_poly = region_poly.union(states[c][\"shape\"])\n",
        "\n",
        "    # simplify polygon structure\n",
        "    region_poly = region_poly.buffer(0.01).simplify(0.01).buffer(-0.01)\n",
        "\n",
        "    region[\"shape\"] = region_poly\n",
        "    patch = PolygonPatch(region_poly, fill=False, label=name, hatch=region[\"hatch\"])\n",
        "    ax.add_patch(patch)\n",
        "\n",
        "ax.legend()\n",
        "ax.set_aspect(1.5)\n",
        "y_lim = (23, 50) # lat \n",
        "x_lim = (-128, -45) # long\n",
        "ax.set_xlim(x_lim)\n",
        "ax.set_ylim(y_lim)\n",
        "plt.show()"
      ],
      "execution_count": 270,
      "outputs": [
        {
          "output_type": "display_data",
          "data": {
            "image/png": "[encoded data removed]",
            "text/plain": [
              "<Figure size 432x288 with 1 Axes>"
            ]
          },
          "metadata": {
            "tags": [],
            "needs_background": "light"
          }
        }
      ]
    },
    {
      "cell_type": "code",
      "metadata": {
        "id": "RzHzBAV1vRsm",
        "colab_type": "code",
        "colab": {}
      },
      "source": [
        "\n",
        "# precomputed noise\n",
        "ϵ = np.random.randn(num_partition_samples, 2)\n",
        "\n",
        "for i,(id,state) in enumerate(states.items()):\n",
        "  state[\"borderloss\"] = {}\n",
        "  for j,(name,region) in enumerate(regions.items()):\n",
        "    if id not in region[\"ids\"]:\n",
        "      continue\n",
        "    print(\"Calculating border effects for state '{}' in region '{}' ({:.2f}%) \".format(id, name, 100.0*((i*len(regions)+j)/(len(states)*len(regions)))), end=\"\\r\")\n",
        "    state[\"borderloss\"][name] = compute_loss(region[\"shape\"], state[\"testpoints\"], σs, ϵ)"
      ],
      "execution_count": 0,
      "outputs": []
    },
    {
      "cell_type": "code",
      "metadata": {
        "id": "8QIjWPMmwFeE",
        "colab_type": "code",
        "colab": {}
      },
      "source": [
        "cmap = mpl.cm.ScalarMappable(cmap=mpl.cm.viridis)\n",
        "cmap.set_clim(0.0, 1.0)\n",
        "\n",
        "fig = plt.figure(figsize=(5*len(σs), 5*len(regions)))\n",
        "# calculate region polygons\n",
        "for i,r in enumerate(regions.keys()):\n",
        "    for j,σ in enumerate(σs):\n",
        "        ax = fig.add_subplot(len(regions), 4, i*4+j+1, aspect=1.0)\n",
        "        for k,(rid, state) in enumerate(states.items()):\n",
        "            if r in state[\"borderloss\"]:\n",
        "                ax.add_patch(PolygonPatch(state[\"shape\"], lw=0, fc=cmap.to_rgba(state[\"borderloss\"][r][j])))\n",
        "            else:\n",
        "                ax.add_patch(PolygonPatch(state[\"shape\"], lw=0, fill=False, hatch=\"x\"))\n",
        "        ax.set_aspect(1.5)\n",
        "        ax.set_xlim(x_lim)\n",
        "        ax.set_ylim(y_lim)\n",
        "        ax.set_title(\"{} @ σ = {:.2f}\".format(r,σ))\n",
        "plt.show(fig)"
      ],
      "execution_count": 0,
      "outputs": []
    },
    {
      "cell_type": "code",
      "metadata": {
        "id": "Sartt12mImeB",
        "colab_type": "code",
        "colab": {}
      },
      "source": [
        "with open('/content/Covid---19/data/states.pkl',\"wb\") as f:\n",
        "    pkl.dump(states,f)"
      ],
      "execution_count": 0,
      "outputs": []
    },
    {
      "cell_type": "code",
      "metadata": {
        "id": "Qxkfds_OJK0v",
        "colab_type": "code",
        "colab": {
          "base_uri": "https://localhost:8080/",
          "height": 17
        },
        "outputId": "5ead2224-5175-487d-b6f6-a6fdfabb16f1"
      },
      "source": [
        "factor = np.empty((len(states),len(states),len(σs)), np.float64)\n",
        "\n",
        "for i,(id_1, state_1) in enumerate(states.items()):\n",
        "    for j,(id_2, state_2) in enumerate(states.items()):\n",
        "        if j < i:\n",
        "            factor[i,j,:] = factor[j,i,:]\n",
        "            continue\n",
        "        print(\"Calculating interaction effects for states '{}' and '{}' ({:.2f}%)            \".format(id_1, id_2, 100.0*(i+j/len(states))/len(states)), end=\"\\r\")\n",
        "        factor[i,j,:] = compute_interaction(state_1[\"testpoints\"], state_2[\"testpoints\"], σs)"
      ],
      "execution_count": 312,
      "outputs": [
        {
          "output_type": "stream",
          "text": [
            ""
          ],
          "name": "stdout"
        }
      ]
    },
    {
      "cell_type": "code",
      "metadata": {
        "id": "cLe7twbwJybq",
        "colab_type": "code",
        "colab": {
          "base_uri": "https://localhost:8080/",
          "height": 141
        },
        "outputId": "e7d851ec-d84d-467c-810e-7fd0b78cddf4"
      },
      "source": [
        "cmap = mpl.cm.ScalarMappable(cmap=mpl.cm.viridis)\n",
        "cmap.set_clim(factor.min(), factor.max())\n",
        "\n",
        "i = list(states.keys()).index(\"0400000US37\")\n",
        "\n",
        "fig = plt.figure(figsize=(5*len(σs), 5))\n",
        "for j,σ in enumerate(σs):\n",
        "    ax = fig.add_subplot(1, len(σs), j+1, aspect=1.0)\n",
        "    for k,(rid, state) in enumerate(states.items()):\n",
        "        ax.add_patch(PolygonPatch(state[\"shape\"], lw=0, fc=cmap.to_rgba(factor[i,k,j])))\n",
        "    ax.set_aspect(1.0)\n",
        "    ax.set_xlim(-76,-85)\n",
        "    ax.set_ylim(33,37)\n",
        "    ax.set_title(\"influential around '0400000US37' @ σ = {:.2f}\".format(σ))\n",
        "plt.show(fig)"
      ],
      "execution_count": 313,
      "outputs": [
        {
          "output_type": "display_data",
          "data": {
            "image/png": "[encoded data removed]",
            "text/plain": [
              "<Figure size 1440x360 with 4 Axes>"
            ]
          },
          "metadata": {
            "tags": [],
            "needs_background": "light"
          }
        }
      ]
    },
    {
      "cell_type": "code",
      "metadata": {
        "id": "_r10qUCKMal3",
        "colab_type": "code",
        "colab": {}
      },
      "source": [
        "np.save(\"/content/Covid---19/data/interaction_effects.npy\", factor)"
      ],
      "execution_count": 0,
      "outputs": []
    }
  ]
}